{
 "cells": [
  {
   "cell_type": "code",
   "execution_count": null,
   "metadata": {},
   "outputs": [],
   "source": [
    "#my question: what do my favorite music artists have in common? taking music across many diff genres and comparing the content of the songs\n",
    "#Methodology: I found my 5 favorite songs from my top 10 favorite artists and analyzed the topics that the music was about.\n",
    "\n",
    "\n",
    "\n",
    "#first gathering my data thru web scraping!\n",
    "\n",
    "#creating an object with array of 5 urls. This will hold the A-Z Lyrics of my 5 favorite songs from a single artist.\n",
    "class Discography:\n",
    "    def __init__(songs, url_list, artist):\n",
    "        songs.url_list = url_list\n",
    "        songs.artist = artist\n",
    "\n",
    "#for making http requests\n",
    "import requests\n",
    "#for getting HTML information\n",
    "from bs4 import BeautifulSoup\n",
    "#for saving file data\n",
    "import pickle\n",
    "\n",
    "def convert_url_to_transcript(artist_info):\n",
    "    #keeping songs in an [] for now (want to process indiviual songs: don't want to count a verse repeat (ex: chorus), want to focus on the unique verses), so will process this later\n",
    "    allLyrics = \"\"\n",
    "    for url in artist_info.url_list:\n",
    "        #get lyrics from genius lyrics website\n",
    "        #making a request\n",
    "        page = requests.get(url).text\n",
    "        #pull out the html, \"lxml\" is a library that helps with parsing the html/xml\n",
    "        soup = BeautifulSoup(page, 'lxml')\n",
    "        allLyrics += (soup.find(class_=\"lyrics\").get_text())\n",
    "    return allLyrics\n",
    "\n",
    "\n",
    "urls = [Discography(['https://genius.com/Rex-orange-county-corduroy-dreams-lyrics', 'https://genius.com/Rex-orange-county-nothing-lyrics', 'https://genius.com/Rex-orange-county-sunflower-lyrics', 'https://genius.com/Rex-orange-county-never-enough-lyrics', 'https://genius.com/Rex-orange-county-loving-is-easy-lyrics', 'https://genius.com/Rex-orange-county-happiness-lyrics', 'https://genius.com/Rex-orange-county-best-friend-lyrics'], 'RexOrangeCounty'), Discography(['https://genius.com/Omar-apollo-ugotme-lyrics', 'https://genius.com/Omar-apollo-erase-lyrics', 'https://genius.com/Omar-apollo-kickback-lyrics', 'https://genius.com/Omar-apollo-ashamed-lyrics', 'https://genius.com/Omar-apollo-so-good-lyrics', 'https://genius.com/Omar-apollo-brakelights-lyrics'], 'OmarApollo'), Discography(['https://genius.com/Wallows-these-days-lyrics', 'https://genius.com/Wallows-pleaser-lyrics', 'https://genius.com/Wallows-remember-when-lyrics', 'https://genius.com/Wallows-treacherous-doctor-lyrics', 'https://genius.com/Wallows-its-only-right-lyrics', 'https://genius.com/Wallows-are-you-bored-yet-lyrics', 'https://genius.com/Wallows-pictures-of-girls-lyrics'], 'Wallows'), Discography(['https://genius.com/Dua-lipa-physical-lyrics', 'https://genius.com/Dua-lipa-love-again-lyrics', 'https://genius.com/Calvin-harris-and-dua-lipa-one-kiss-lyrics', 'https://genius.com/Dua-lipa-break-my-heart-lyrics', 'https://genius.com/Dua-lipa-cool-lyrics', 'https://genius.com/Dua-lipa-hallucinate-lyrics', 'https://genius.com/Silk-city-and-dua-lipa-electricity-lyrics'], 'DuaLipa'), Discography(['https://genius.com/Marina-oh-no-lyrics', 'https://genius.com/Marina-to-be-human-lyrics', 'https://genius.com/Marina-hollywood-lyrics', 'https://genius.com/Marina-seventeen-lyrics', 'https://genius.com/Marina-froot-lyrics', 'https://genius.com/Marina-primadonna-lyrics', 'https://genius.com/Marina-lies-lyrics', 'https://genius.com/Marina-homewrecker-lyrics'], 'Marina'), Discography(['https://genius.com/Dayglow-can-i-call-you-tonight-lyrics', 'https://genius.com/Dayglow-hot-rod-lyrics', 'https://genius.com/Dayglow-fair-game-lyrics', 'https://genius.com/Dayglow-run-the-world-lyrics', 'https://genius.com/Dayglow-listerine-lyrics'], 'Dayglow')]\n",
    "\n",
    "\n",
    "\n"
   ]
  },
  {
   "cell_type": "code",
   "execution_count": null,
   "metadata": {
    "scrolled": true
   },
   "outputs": [],
   "source": [
    "#store the list of lyrics \n",
    "lyrics_list = [convert_url_to_transcript(u) for u in urls]\n",
    "print(lyrics_list)"
   ]
  },
  {
   "cell_type": "code",
   "execution_count": null,
   "metadata": {},
   "outputs": [],
   "source": [
    "#prob want to save this for later, so want to pickle\n",
    "!mkdir lyrics\n",
    "\n",
    "for i, c in enumerate(urls):\n",
    "    print(lyrics_list[i])\n",
    "    with open(\"lyrics/\" + c.artist + \".txt\", \"wb\") as file:\n",
    "        pickle.dump(lyrics_list[i], file)"
   ]
  },
  {
   "cell_type": "code",
   "execution_count": null,
   "metadata": {
    "scrolled": true
   },
   "outputs": [],
   "source": [
    "#create a dictionary of artists, with the key being the artist name and the value being all of their song lyrics.\n",
    "artists = {} \n",
    "for i, c in enumerate(urls):\n",
    "    with open(\"lyrics/\" + c.artist + \".txt\", \"rb\") as file:\n",
    "        artists[c.artist] = pickle.load(file)"
   ]
  },
  {
   "cell_type": "code",
   "execution_count": null,
   "metadata": {},
   "outputs": [],
   "source": [
    "artists.keys()"
   ]
  },
  {
   "cell_type": "code",
   "execution_count": null,
   "metadata": {},
   "outputs": [],
   "source": [
    "artists['RexOrangeCounty']"
   ]
  },
  {
   "cell_type": "code",
   "execution_count": null,
   "metadata": {},
   "outputs": [],
   "source": [
    "#all the data is in a dictionary, so now can make: a) corpus (simple collection of texts) or b) a document-term matrix\n",
    "#which requires cleaning (incl. taking out punctuation, all to lowercase, getting rid of [Verse 1] stuff that is not \n",
    "#part of the music, etc.)\n",
    "\n",
    "#use pandas dataframe, acts as a corpus\n",
    "import pandas as panda\n",
    "#pandas can take all of the \n",
    "corpus = panda.DataFrame.from_dict(artists.items()).transpose()\n",
    "corpus = corpus.sort_index()\n",
    "corpus\n",
    "#saving as a CSV file so it is viewable!\n",
    "corpus.to_csv('artists_corpus.csv')"
   ]
  },
  {
   "cell_type": "code",
   "execution_count": null,
   "metadata": {
    "scrolled": true
   },
   "outputs": [],
   "source": [
    "#want to clean up some useless stuff at first. what comes to mind is the [intro] type indicators that Genius.com has\n",
    "import re\n",
    "def cleanUp(lyrics):\n",
    "    #remove anything in brackets (are verse markings on Genius)\n",
    "    lyrics = re.sub('\\[.*\\]', '', lyrics)\n",
    "    lyrics = re.sub('\\n', ' ', lyrics) \n",
    "    return secondRoundCleaning(lyrics)\n",
    "\n",
    "#after some work, I realized 2 errors: 1. to me, \"oooh\" vs \"ooh\" is neglible because it is up to each lyricist how many o's or h's to put\n",
    "#so since it's subjective, any type of \"ohhh\" will count as the same token\n",
    "#additionally, there were still some escape characters for apostrophes, so removing that.\n",
    "def secondRoundCleaning(lyrics):\n",
    "    lyrics = re.sub('o+h+', 'oh', lyrics)\n",
    "    lyrics = re.sub('\\'+', '', lyrics)\n",
    "    lyrics = re.sub('[!?.(),\\\"]', '', lyrics)\n",
    "    lyrics = lyrics.lower()\n",
    "    return(lyrics)\n"
   ]
  },
  {
   "cell_type": "code",
   "execution_count": null,
   "metadata": {},
   "outputs": [],
   "source": [
    "\n",
    "#1. the CountVectorizer will take the [cleaned] lyrics and count the frequency of words per artist\n",
    "\n",
    "from sklearn.feature_extraction.text import CountVectorizer\n",
    "\n",
    "song_lyrics = []\n",
    "for artist in artists.keys():\n",
    "    clean_lyrics = cleanUp(artists.get(artist))\n",
    "    artists.update({artist: clean_lyrics})\n",
    "    print(artists.get(artist) + \"\\n\\n\\n\")\n",
    "    song_lyrics.append(clean_lyrics)\n",
    "    \n",
    "#print(song_lyrics)\n",
    "    \n",
    "#stop words =\n",
    "vectorizer = CountVectorizer(stop_words='english', ngram_range=(1, 1))\n",
    "#print(vectorizer.get_stop_words())\n",
    "\n",
    "d_t_matrix = vectorizer.fit_transform(song_lyrics)\n",
    "#print(vectorizer.get_feature_names())\n",
    "\n",
    "#this will give a list of all of the counted words, as well as the frequencies. I notice a LOT of 'ooh'/'oooh'- these\n",
    "#can count as words because they are important vocal elements to a song, but 'ooh' and 'oooh' are usually not much\n",
    "#different, and it is up to the lyricist how many o's to put in front. so want to clean this!\n",
    "#similarly, what about contractions? they show up as split at the '\n",
    "#finally, what about lemmas? should do smth with that\n",
    "#list(zip(vectorizer.get_feature_names(), d_t_matrix.sum(0).getA1()))\n",
    "\n",
    "updated_corpus = panda.DataFrame.from_dict(artists.items()).transpose()\n",
    "updated_corpus = updated_corpus.sort_index()\n",
    "#print(updated_corpus)\n",
    "#saving as a CSV file so it is viewable!\n",
    "updated_corpus.to_csv('artists_corpus_clean.csv')\n",
    "\n"
   ]
  },
  {
   "cell_type": "code",
   "execution_count": null,
   "metadata": {},
   "outputs": [],
   "source": []
  }
 ],
 "metadata": {
  "kernelspec": {
   "display_name": "Python 3",
   "language": "python",
   "name": "python3"
  },
  "language_info": {
   "codemirror_mode": {
    "name": "ipython",
    "version": 3
   },
   "file_extension": ".py",
   "mimetype": "text/x-python",
   "name": "python",
   "nbconvert_exporter": "python",
   "pygments_lexer": "ipython3",
   "version": "3.8.3"
  }
 },
 "nbformat": 4,
 "nbformat_minor": 4
}
