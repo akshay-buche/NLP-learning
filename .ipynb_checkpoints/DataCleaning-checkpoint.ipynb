{
 "cells": [
  {
   "cell_type": "code",
   "execution_count": 22,
   "metadata": {},
   "outputs": [],
   "source": [
    "#my question: what do my favorite music artists have in common? taking music across many diff genres and comparing the content of the songs\n",
    "#Methodology: I found my 5 favorite songs from my top 10 favorite artists and analyzed the topics that the music was about.\n",
    "\n",
    "\n",
    "\n",
    "#first gathering my data thru web scraping!\n",
    "\n",
    "#creating an object with array of 5 urls. This will hold the A-Z Lyrics of my 5 favorite songs from a single artist.\n",
    "class Discography:\n",
    "    def __init__(songs, url_list, artist):\n",
    "        songs.url_list = url_list\n",
    "        songs.artist = artist\n",
    "\n",
    "#for making http requests\n",
    "import requests\n",
    "#for getting HTML information\n",
    "from bs4 import BeautifulSoup\n",
    "#for saving file data\n",
    "import pickle\n",
    "\n",
    "def convert_url_to_transcript(artist_info):\n",
    "    #keeping songs in an [] for now (want to process indiviual songs: don't want to count a verse repeat (ex: chorus), want to focus on the unique verses), so will process this later\n",
    "    allLyrics = []\n",
    "    for url in artist_info.url_list:\n",
    "        #get lyrics from genius lyrics website\n",
    "        #making a request\n",
    "        page = requests.get(url).text\n",
    "        #pull out the html, \"lxml\" is a library that helps with parsing the html/xml\n",
    "        soup = BeautifulSoup(page, 'lxml')\n",
    "        allLyrics.append(soup.find(class_=\"lyrics\").get_text())\n",
    "    return allLyrics\n",
    "\n",
    "\n",
    "urls = [Discography(['https://genius.com/Rex-orange-county-corduroy-dreams-lyrics', 'https://genius.com/Rex-orange-county-nothing-lyrics', 'https://genius.com/Rex-orange-county-sunflower-lyrics', 'https://genius.com/Rex-orange-county-never-enough-lyrics', 'https://genius.com/Rex-orange-county-loving-is-easy-lyrics'], 'RexOrangeCounty')]\n",
    "\n",
    "\n",
    "\n"
   ]
  },
  {
   "cell_type": "code",
   "execution_count": 24,
   "metadata": {
    "scrolled": true
   },
   "outputs": [
    {
     "name": "stdout",
     "output_type": "stream",
     "text": [
      "[[\"\\n\\n[Verse 1]\\nHow could I ignore you?\\nTrust me I adore you\\nWe’re swimming through our dreams\\nKiss me in the shower\\nFor a couple hours\\nThough we’re only sixteen\\nAnd sit down beside me\\nDon’t call me daddy\\nCause that’s just fucking weird\\nPromise that you'll stay here\\nYou and I can lay here\\nUntil the end of time\\n\\n[Chorus]\\nBut girl, well don't you worry about me\\nIt ain’t new to me, feeling this lonely (Darling)\\nGirl, don't worry about me\\nBut if you’re ever unhappy\\nThen maybe, baby, I must let you go\\nLet you go\\n\\n[Verse 2]\\nBaby, now it’s best here, to lay me down and rest here\\nLet’s dream of Corduroy\\nWork for what you love to do and I will watch right over you\\nWith your heart, I’ll never toy\\nAnd you’re the other half of me\\nDrink and sleep and laugh with me\\nSave me from myself\\nSee I’m a fucking basket-case\\nUntil I'm able to see your face\\nYou saved me from myself\\n\\n[Chorus]\\nBut girl, don't worry about me\\nCause it ain't new to me, feeling this lonely\\nDarling baby, girl, don't worry about me\\nCause if you're ever unhappy, if you’re ever unhappy\\nIf you’re ever, ever unhappy\\nThen maybe, maybe baby I must let you go\\n\\n\", \"\\n\\n[Intro]\\nAy\\n\\n[Hook: Rex Orange County]\\nWhen we first spent the night\\nNothing else would ever feel that way\\nIn my room it all changed\\n\\n[Chorus: Rex Orange County]\\nAnd I could see something in your eyes\\nI knew that nothing else would be the same\\nBut I wish that I could grow up, the way in which you grow up\\n'Cause then you'd never see me cry\\nAnd I'd feel like a better guy\\n'Cause nothing, nothing\\nOh, nothing, no\\nI said, that nothing else would ever be the same\\n\\n[Hook: Rex Orange County]\\nWhen we first spent the night\\nNo, nothing else could ever feel that way\\nIn my room it all changed, yeah\\n\\n[Verse 1: Marco McKinnis]\\nNothing seems to be as floral as you, baby\\nA scarlet love and dew-light touches were so sacred\\nI could never leave your face\\nShower you with my warm embrace, baby\\n\\n[Chorus: Rex Orange County]\\nAnd I still see that in your eyes\\nI hope that nothing will ever change\\n'Cause I wish that I could grow up, the way in which you grow up\\n'Cause then I'd love myself and I, I'd feel like a better guy\\n'Cause nothing, no, nothing\\nNo, nothing, no\\nI said, that nothing else would ever be the same\\nSame, same, same (Be the same)\\n\\n[Verse 2: Rex Orange County]\\n'Cause lately I've been missing you\\nAnd I just kinda want your body (I want it, baby)\\nI know I could ease the pain (Ease the pain)\\nAnd I know you done missed me too, and if that's true, well I'm sorry (I'm sorry)\\nBut at least I'm on my feet again (I'm on my feet again)\\nBut listen, girl\\nCouldn't you tell I'm scared as well?\\nYou could hold my hand (Say something, say something)\\nSay something, something that could ease my pain\\nEase my pain\\n\\n[Outro]\\nOoh, ooh\\n\\n\", \"\\n\\n[Intro]\\nOh\\nI want to know\\nWhere I can go\\nWhen you're not around\\nAnd I'm feeling down\\nSo won't you stay for a moment\\nSo I can say\\nI, I need you so\\n'Cause right now you know that nothing here's new\\nAnd I'm obsessed with you\\nThen I fell to the ground\\nAnd you smiled at me and said\\n\\n[Verse 1]\\nI don't wanna see you cry\\nYou don't have to feel this emptiness\\nShe said I love you till the day that I die\\nWell, maybe she's right\\n'Cause I don't wanna feel like I'm not me\\nAnd to be honest I don't even know why\\nI let myself get down in the first place\\n\\n[Chorus]\\nTryna keep my mind at bay\\nSunflower still grows at night\\nWaiting for a minute 'til the sun's seen through my eyes\\nMake it down down, do-down-down\\nDiggy dig down, du du du du\\nWaiting for a minute 'til the sun's seen through my eyes\\n\\n[Verse 2]\\nYou know you need to get yourself to sleep and dream\\nA dream of you and I\\nThere's no need to keep an open eye\\nI promise I'm the one for you\\nJust let me hold you in these arms tonight\\nI'm lucky to be me and you can see it in my face\\nBack when I fucked my shit up too many times\\nWhy would I let myself get down in the first place?\\n\\n[Chorus]\\nTryna keep my mind at bay\\nSunflower still grows at night\\nWaiting for a minute 'til the sun's seen through my eyes\\nMake it down, down, do-down-down\\nDiggy dig down, du du du du\\nWaiting for a minute 'til the sun's seen through my eyes\\n\\n[Bridge]\\nAnd so she sat me down and told me that I didn't have to cry\\nSaid I didn't need to get down or feel empty inside\\nAnd told me that she'll love me for as long as she's alive\\nAnd well, maybe she's right\\n'Cause I hate it when I feel like I'm not me\\nSee, I honestly don't even know why\\nI-I honestly don't even know why\\n\\n[Chorus]\\nTryna keep my mind at bay\\nSunflower still grows at night\\nWaiting for a minute 'til the sun's seen through my eyes\\nMake it down down, do-down-down\\nDiggy dig down, du du du du\\nWaiting for a minute 'til the sun's seen through my eyes\\n\\n\", \"\\n\\n[Verse 1]\\nNow there's no one left to blame\\nAnd your face stays the same\\nYou're ashamed to say you feel relieved\\nStay away from your own family\\n\\n[Pre-Chorus]\\nBut years from now\\nIf you could make them proud\\nYou could leave the world and feel like you've\\nAchieved the things you hoped to do, but\\nHonestly, I don't feel ordinary 'cause I haven't been at home in a while\\nTell them that it's only temporary, I'm trying my best to smile\\n\\n[Chorus]\\nBut that's never enough\\n'Cause when you lose the ones you love\\nYou might find it hard to cry\\nUntil it's only you and everybody else has left the room\\nYou might feel what it's like to not know how to feel\\n\\n[Verse 2]\\nYou see, my old lady's old man just now left\\nAnd there's nothing I can say except this long awaited rest\\nIs a good thing, and all good things must come to an end\\nIt's right in front of me so there's no reason to pretend\\nExcept, I'm afraid to die\\nIf this were a movie, you'd be taking our kids to school\\nAnd I would be Channing Tatum or somebody sexy, somebody cool\\n\\n[Pre-Chorus]\\nBut years from now\\nIf you could make them proud\\nYou could leave the world and feel like you've\\nAchieved the things you hoped to do, cause\\nHonestly, I don't feel ordinary 'cause I haven't left my house in a while\\nTell them that it's only temporary, I'm trying my best to smile\\n\\n[Chorus]\\nBut that's never enough\\n'Cause when you lose the ones you love\\nYou might find it hard to cry\\nUntil it's only you and everybody else has left the room\\nYou might feel what it's like to not know how to feel\\n\\n[Breakdown]\\nDon't tell me you're sorry\\nYou're just sorry for yourself\\nAnd though you may seem fine alone\\nWell I could be the one to help\\nNo, don't tell me you're sorry\\nYou're just sorry for yourself\\nAnd though you may seem fine alone\\nI wanna be the one to help\\nNo, don't tell me you're sorry\\nYou're just sorry for yourself\\nAnd though you may seem fine alone\\nI wanna be the one to help\\nDon't tell me you're sorry\\nYou're just sorry for yourself\\nAnd though you may seem fine alone\\nI wanna be the one to help\\nDon't tell me you're sorry\\nYou're just sorry for yourself\\nAnd though you may seem fine alone\\nI wanna be the one to help\\nDon't tell me you're sorry\\nYou're just sorry for yourself\\nAnd though you may seem fine alone\\nI hope to be the one to help\\n\\n\", \"\\n\\n[Chorus]\\nLoving is easy\\nYou had me fucked up\\nIt used to be so hard to see\\nYeah, loving is easy\\nWhen everything's perfect\\nPlease don't change a single little thing for me\\n\\n[Pre-Chorus]\\nListen, girl\\nWhen you can't even hide it\\nAnd it didn't take forever to find it\\nI was all on my own\\nAlmost glad to be alone\\nUntil love came in on time, on time\\n\\n[Chorus]\\nSo loving is easy\\nYou had me fucked up\\nIt used to be so hard to see\\nYeah, loving is easy\\nWhen everything's perfect\\nPlease don't change a single little thing for me\\n\\n[Bridge]\\nOh, oh\\nAh, ah\\nOh, oh\\nAh, ah\\n\\n[Pre-Chorus]\\nSo listen, girl\\nWhen you can't even hide it\\nAnd it didn't take forever to find it\\nI was all on my own\\nAlmost glad to be alone\\nUntil love came in on time, oh, on time\\n\\n[Chorus]\\nLoving is easy\\nYou had me fucked up\\nIt used to be so hard to see\\nYeah, loving is easy\\nWhen everything's perfect\\nPlease don't change a single little thing for me\\n\\n[Outro]\\nOh, oh\\nAh, ah\\nOh, oh\\nAh, ah\\n\\n\"]]\n"
     ]
    }
   ],
   "source": [
    "#store the list of lyrics \n",
    "lyrics_list = [convert_url_to_transcript(u) for u in urls]\n",
    "print(lyrics_list)"
   ]
  },
  {
   "cell_type": "code",
   "execution_count": 29,
   "metadata": {},
   "outputs": [
    {
     "name": "stdout",
     "output_type": "stream",
     "text": [
      "mkdir: lyrics: File exists\r\n"
     ]
    }
   ],
   "source": [
    "#prob want to save this for later, so want to pickle\n",
    "!mkdir lyrics\n",
    "\n",
    "#for i, c in enumerate(urls):\n",
    " #   print(lyrics_list[i])\n",
    "    #with open(\"lyrics/\" + c.artist + \".txt\", \"wb\") as file:\n",
    " #   pickle_out = open(('lyrics/' + c.artist + '.txt'),'wb')\n",
    " #   pickle.dump(lyrics_list[i][0], pickle_out)\n",
    " #   pickle_out.close()        \n",
    "        #pickle.dump(lyrics_list[i], file)\n"
   ]
  },
  {
   "cell_type": "code",
   "execution_count": 30,
   "metadata": {},
   "outputs": [],
   "source": [
    "pkl_file = open('lyrics/test.txt', 'wb')\n",
    "mydict2 = pickle.dump(\"testing\", pkl_file)\n",
    "pkl_file.close()"
   ]
  },
  {
   "cell_type": "code",
   "execution_count": null,
   "metadata": {},
   "outputs": [],
   "source": []
  }
 ],
 "metadata": {
  "kernelspec": {
   "display_name": "Python 3",
   "language": "python",
   "name": "python3"
  },
  "language_info": {
   "codemirror_mode": {
    "name": "ipython",
    "version": 3
   },
   "file_extension": ".py",
   "mimetype": "text/x-python",
   "name": "python",
   "nbconvert_exporter": "python",
   "pygments_lexer": "ipython3",
   "version": "3.8.3"
  }
 },
 "nbformat": 4,
 "nbformat_minor": 4
}
