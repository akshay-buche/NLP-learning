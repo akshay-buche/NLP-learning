{
 "cells": [
  {
   "cell_type": "code",
   "execution_count": 40,
   "metadata": {},
   "outputs": [],
   "source": [
    "#my question: what do my favorite music artists have in common? taking music across many diff genres and comparing the content of the songs\n",
    "\n",
    "#first gathering my data thru web scraping!\n",
    "\n",
    "#for making http requests\n",
    "import requests\n",
    "#for getting HTML information\n",
    "from bs4 import BeautifulSoup\n",
    "#for saving file data\n",
    "import pickle\n",
    "\n",
    "def convert_url_to_transcript(url):\n",
    "    #get lyrics from a-z lyrics website\n",
    "    #making a request\n",
    "    page = requests.get(url).text\n",
    "    #pull out the html, \"lxml\" is a library that helps with parsing the html/xml\n",
    "    soup = BeautifulSoup(page, 'lxml')\n",
    "    lyrics = soup.find(class_=\"lyrics\").get_text()\n",
    "    #now we want to extract the \n",
    "    print (lyrics)\n",
    "    return lyrics\n",
    "\n",
    "#urls to scrape: \n",
    "urls = ['https://genius.com/Rex-orange-county-corduroy-dreams-lyrics']\n",
    "\n"
   ]
  },
  {
   "cell_type": "code",
   "execution_count": 41,
   "metadata": {},
   "outputs": [
    {
     "name": "stdout",
     "output_type": "stream",
     "text": [
      "\n",
      "\n",
      "[Verse 1]\n",
      "How could I ignore you?\n",
      "Trust me I adore you\n",
      "We’re swimming through our dreams\n",
      "Kiss me in the shower\n",
      "For a couple hours\n",
      "Though we’re only sixteen\n",
      "And sit down beside me\n",
      "Don’t call me daddy\n",
      "Cause that’s just fucking weird\n",
      "Promise that you'll stay here\n",
      "You and I can lay here\n",
      "Until the end of time\n",
      "\n",
      "[Chorus]\n",
      "But girl, well don't you worry about me\n",
      "It ain’t new to me, feeling this lonely (Darling)\n",
      "Girl, don't worry about me\n",
      "But if you’re ever unhappy\n",
      "Then maybe, baby, I must let you go\n",
      "Let you go\n",
      "\n",
      "[Verse 2]\n",
      "Baby, now it’s best here, to lay me down and rest here\n",
      "Let’s dream of Corduroy\n",
      "Work for what you love to do and I will watch right over you\n",
      "With your heart, I’ll never toy\n",
      "And you’re the other half of me\n",
      "Drink and sleep and laugh with me\n",
      "Save me from myself\n",
      "See I’m a fucking basket-case\n",
      "Until I'm able to see your face\n",
      "You saved me from myself\n",
      "\n",
      "[Chorus]\n",
      "But girl, don't worry about me\n",
      "Cause it ain't new to me, feeling this lonely\n",
      "Darling baby, girl, don't worry about me\n",
      "Cause if you're ever unhappy, if you’re ever unhappy\n",
      "If you’re ever, ever unhappy\n",
      "Then maybe, maybe baby I must let you go\n",
      "\n",
      "\n"
     ]
    }
   ],
   "source": [
    "transcripts = [convert_url_to_transcript(u) for u in urls]"
   ]
  },
  {
   "cell_type": "code",
   "execution_count": null,
   "metadata": {},
   "outputs": [],
   "source": []
  }
 ],
 "metadata": {
  "kernelspec": {
   "display_name": "Python 3",
   "language": "python",
   "name": "python3"
  },
  "language_info": {
   "codemirror_mode": {
    "name": "ipython",
    "version": 3
   },
   "file_extension": ".py",
   "mimetype": "text/x-python",
   "name": "python",
   "nbconvert_exporter": "python",
   "pygments_lexer": "ipython3",
   "version": "3.8.3"
  }
 },
 "nbformat": 4,
 "nbformat_minor": 4
}
