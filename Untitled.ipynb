{
 "cells": [
  {
   "cell_type": "code",
   "execution_count": null,
   "metadata": {},
   "outputs": [],
   "source": [
    "#my question: what do my favorite music artists have in common? taking music across many diff genres and comparing the content of the songs\n",
    "#Methodology: I found my 5 favorite songs from my top 10 favorite artists and analyzed the topics that the music was about.\n",
    "\n",
    "\n",
    "\n",
    "#first gathering my data thru web scraping!\n",
    "\n",
    "#creating an object with array of 5 urls. This will hold the A-Z Lyrics of my 5 favorite songs from a single artist.\n",
    "class Discography:\n",
    "    def __init__(songs, url_list, artist):\n",
    "        songs.url_list = url_list\n",
    "        songs.artist = artist\n",
    "\n",
    "#for making http requests\n",
    "import requests\n",
    "#for getting HTML information\n",
    "from bs4 import BeautifulSoup\n",
    "#for saving file data\n",
    "import pickle\n",
    "\n",
    "def convert_url_to_transcript(artist_info):\n",
    "    #keeping songs in an [] for now (want to process indiviual songs: don't want to count a verse repeat (ex: chorus), want to focus on the unique verses), so will process this later\n",
    "    allLyrics = []\n",
    "    print(artist_info.url_list)\n",
    "    for url in artist_info.url_list:\n",
    "        #get lyrics from a-z lyrics website\n",
    "        #making a request\n",
    "        page = requests.get(url).text\n",
    "        #pull out the html, \"lxml\" is a library that helps with parsing the html/xml\n",
    "        soup = BeautifulSoup(page, 'lxml')\n",
    "        allLyrics.append(soup.find(class_=\"lyrics\").get_text())\n",
    "        \n",
    "    print(allLyrics)\n",
    "    return allLyrics\n",
    "\n",
    "\n",
    "urls = [Discography(['https://genius.com/Rex-orange-county-corduroy-dreams-lyrics', 'https://genius.com/Rex-orange-county-nothing-lyrics'], 'Rex Orange County')]\n",
    "\n",
    "\n",
    "\n"
   ]
  },
  {
   "cell_type": "code",
   "execution_count": null,
   "metadata": {},
   "outputs": [],
   "source": [
    "#store the list of lyrics \n",
    "lyrics_list = [convert_url_to_transcript(u) for u in urls]"
   ]
  },
  {
   "cell_type": "code",
   "execution_count": null,
   "metadata": {},
   "outputs": [],
   "source": [
    "#prob want to save this for later, so want to pickle\n"
   ]
  }
 ],
 "metadata": {
  "kernelspec": {
   "display_name": "Python 3",
   "language": "python",
   "name": "python3"
  },
  "language_info": {
   "codemirror_mode": {
    "name": "ipython",
    "version": 3
   },
   "file_extension": ".py",
   "mimetype": "text/x-python",
   "name": "python",
   "nbconvert_exporter": "python",
   "pygments_lexer": "ipython3",
   "version": "3.8.3"
  }
 },
 "nbformat": 4,
 "nbformat_minor": 4
}
